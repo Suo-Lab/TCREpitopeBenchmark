{
 "cells": [
  {
   "cell_type": "markdown",
   "id": "5593fec6",
   "metadata": {},
   "source": [
    "# data  preparation"
   ]
  },
  {
   "cell_type": "code",
   "execution_count": 4,
   "id": "706b6364",
   "metadata": {},
   "outputs": [],
   "source": [
    "import pandas as pd\n",
    "data =pd.read_csv('../data/test.csv')\n",
    "data=data[['CDR3B','Epitope']]\n",
    "data =data.rename(columns={'CDR3B': 'cdr3','Epitope': 'antigen.epitope'})\n",
    "data.to_csv('../ImRex_test.csv', sep=';', index=False)"
   ]
  },
  {
   "cell_type": "markdown",
   "id": "c0fafa45",
   "metadata": {},
   "source": [
    "# Run the script in the created environment"
   ]
  },
  {
   "cell_type": "code",
   "execution_count": null,
   "id": "1403bc8a",
   "metadata": {},
   "outputs": [],
   "source": []
  },
  {
   "cell_type": "code",
   "execution_count": null,
   "id": "d9b83787",
   "metadata": {},
   "outputs": [],
   "source": []
  },
  {
   "cell_type": "code",
   "execution_count": null,
   "id": "6bd9f128",
   "metadata": {},
   "outputs": [],
   "source": []
  },
  {
   "cell_type": "code",
   "execution_count": null,
   "id": "7820a97f",
   "metadata": {},
   "outputs": [],
   "source": []
  },
  {
   "cell_type": "code",
   "execution_count": null,
   "id": "bbbf856d",
   "metadata": {},
   "outputs": [],
   "source": []
  }
 ],
 "metadata": {
  "kernelspec": {
   "display_name": "ImRex",
   "language": "python",
   "name": "imrex"
  },
  "language_info": {
   "codemirror_mode": {
    "name": "ipython",
    "version": 3
   },
   "file_extension": ".py",
   "mimetype": "text/x-python",
   "name": "python",
   "nbconvert_exporter": "python",
   "pygments_lexer": "ipython3",
   "version": "3.7.6"
  }
 },
 "nbformat": 4,
 "nbformat_minor": 5
}
