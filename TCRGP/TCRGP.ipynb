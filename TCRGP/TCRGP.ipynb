{
 "cells": [
  {
   "cell_type": "markdown",
   "id": "3e412974",
   "metadata": {},
   "source": [
    "# Original model prediction"
   ]
  },
  {
   "cell_type": "code",
   "execution_count": 7,
   "id": "ed28503e",
   "metadata": {},
   "outputs": [],
   "source": [
    "import tcrgp\n",
    "import pickle\n",
    "import ast\n",
    "import csv\n",
    "import numpy as np\n",
    "from matplotlib import pyplot as plt\n",
    "import pandas as pd\n",
    "plt.style.use('ggplot')"
   ]
  },
  {
   "cell_type": "code",
   "execution_count": 18,
   "id": "f622f16a",
   "metadata": {},
   "outputs": [],
   "source": [
    "def fix(datafile,resultpath):\n",
    "    train=pd.read_csv(datafile)\n",
    "    train['TRBV']=''\n",
    "    train['TRBJ']=''\n",
    "    train['cdr3a']=''\n",
    "    epitope = pd.unique(train['Epitope'])\n",
    "    for i in epitope:\n",
    "        df_train = train[train['Epitope'] == i].sample(frac=1, random_state=42)\n",
    "        df_train['cdr3a']='NaN'\n",
    "        df_train=df_train[['Epitope','Affinity','TRBV','TRBJ','cdr3a','CDR3B']]\n",
    "        df_train = df_train.rename(columns={'Epitope': 'epitope', 'CDR3B': 'cdr3b'})\n",
    "        df_train.loc[df_train['Affinity'] == 0, 'epitope'] = 'none'\n",
    "        df_train.to_csv(resultpath+\"10000_\"+i+\".csv\")\n",
    "        \n",
    "import pandas as pd\n",
    "data=pd.read_csv(\"/home/luyanping/data/TCR_epitope_prediction/Compare_models_same_data/database/benchmark_dataset/time/data_5000.csv\")\n",
    "target_rows = 10000\n",
    "original_rows = len(data)\n",
    "repeat_times = target_rows // original_rows + 1\n",
    "df_repeated = pd.concat([data] * repeat_times, ignore_index=True)\n",
    "df_repeated = df_repeated.head(target_rows)\n",
    "df_repeated.to_csv(\"/home/luyanping/data/TCR_epitope_prediction/Compare_models_same_data/TCRGP/data/time/10000_prediciton.csv\")\n",
    "\n",
    "datafile= \"/home/luyanping/data/TCR_epitope_prediction/Compare_models_same_data/TCRGP/data/time/10000_prediciton.csv\"   \n",
    "resultpath=\"/home/luyanping/data/TCR_epitope_prediction/Compare_models_same_data/TCRGP/data/time/\"\n",
    "fix(datafile,resultpath)        "
   ]
  },
  {
   "cell_type": "code",
   "execution_count": null,
   "id": "6b2a5b01",
   "metadata": {},
   "outputs": [],
   "source": [
    "def fix(datafile,resultpath):\n",
    "    train=pd.read_csv(datafile)\n",
    "    train['TRBV']=''\n",
    "    train['TRBJ']=''\n",
    "    train['cdr3a']=''\n",
    "    epitope = pd.unique(train['Epitope'])\n",
    "    for i in epitope:\n",
    "        df_train = train[train['Epitope'] == i].sample(frac=1, random_state=42)\n",
    "        df_train['cdr3a']='NaN'\n",
    "        df_train=df_train[['Epitope','Affinity','TRBV','TRBJ','cdr3a','CDR3B']]\n",
    "        df_train = df_train.rename(columns={'Epitope': 'epitope', 'CDR3B': 'cdr3b'})\n",
    "        df_train.loc[df_train['Affinity'] == 0, 'epitope'] = 'none'\n",
    "        df_train.to_csv(resultpath+i+\".csv\")\n",
    "        \n",
    "import pandas as pd\n",
    "name=['1','2','3']\n",
    "me=['health','Diseases','antigen_specificity']\n",
    "for i in name:\n",
    "    for j in me:\n",
    "        datafile=\"/home/luyanping/data/TCR_epitope_prediction/Compare_models_same_data/database/benchmark_dataset/10cross_validation/Prediction/all/seen/three/neg_pos/\"+i+'_'+j+'.csv'\n",
    "        resultpath=\"/home/luyanping/data/TCR_epitope_prediction/Compare_models_same_data/TCRGP/data/10cross_validation/Prediction/all/seen/three/\"+i+'_'+j\n",
    "        fix(datafile,resultpath)"
   ]
  },
  {
   "cell_type": "code",
   "execution_count": 3,
   "id": "06ddc393",
   "metadata": {},
   "outputs": [],
   "source": [
    "def validation_main(index_path,testfile_path,modelfile_path,result_path):\n",
    "    index = pd.read_csv(index_path)\n",
    "    epitope=pd.unique(index['Epitope'])\n",
    "    all_results = pd.DataFrame()   \n",
    "    for i in epitope:\n",
    "        with open(modelfile_path+'model_vdj_'+i+'_cdr3b','rb') as f:\n",
    "            params = pickle.load(f)\n",
    "        preds = tcrgp.predict(testfile_path+i+'.csv',params)\n",
    "        data = pd.read_csv(testfile_path + i + '.csv')\n",
    "        probability = data[['epitope', 'cdr3b', 'Affinity']]\n",
    "        probability = probability.rename(columns={'Affinity': 'y_true'})\n",
    "        probability['y_prob'] = preds\n",
    "        probability['y_pred'] = probability['y_prob'].apply(lambda x: 1 if x >= 0.5 else 0)\n",
    "        probability['Epitope'] = probability['epitope'].str.replace('none', i)\n",
    "        all_results = all_results.append(probability)\n",
    "    all_results.to_csv(result_path+'probability.csv', index=False)"
   ]
  },
  {
   "cell_type": "code",
   "execution_count": null,
   "id": "0f356edb",
   "metadata": {},
   "outputs": [],
   "source": [
    "name=['1','2','3']\n",
    "me=['health','Diseases','antigen_specificity']\n",
    "for i in name:\n",
    "    for j in me:\n",
    "        index_path=\"/home/luyanping/data/TCR_epitope_prediction/Compare_models_same_data/database/benchmark_dataset/10cross_validation/Prediction/all/seen/three/neg_pos/\"+i+'_'+j+'.csv'\n",
    "        modelfile_path=\"/home/luyanping/data/TCR_epitope_prediction/Compare_models_same_data/TCRGP/model/Original/\"\n",
    "        testfile_path=\"/home/luyanping/data/TCR_epitope_prediction/Compare_models_same_data/TCRGP/data/10cross_validation/Prediction/all/seen/three/\"+i+'_'+j\n",
    "        result_path=\"./result/Original/seen/three/\"+i+'_'+j\n",
    "        validation_main(index_path,testfile_path,modelfile_path,result_path)\n",
    "        "
   ]
  },
  {
   "cell_type": "code",
   "execution_count": null,
   "id": "2a511b8e",
   "metadata": {},
   "outputs": [],
   "source": []
  },
  {
   "cell_type": "code",
   "execution_count": 6,
   "id": "3a728945",
   "metadata": {
    "scrolled": true
   },
   "outputs": [],
   "source": [
    "import pandas as pd\n",
    "data=pd.read_csv(\"/home/luyanping/data/TCR_epitope_prediction/Compare_models_same_data/database/benchmark_dataset/Prediction/all/seen/three/neg_pos/1_health.csv\")\n",
    "target_rows = 1000\n",
    "original_rows = len(data)\n",
    "repeat_times = target_rows // original_rows + 1\n",
    "df_repeated = pd.concat([data] * repeat_times, ignore_index=True)\n",
    "df_repeated = df_repeated.head(target_rows)\n",
    "df_repeated.to_csv(\"/home/luyanping/data/TCR_epitope_prediction/Compare_models_same_data/TCRGP/data/time/1000000_prediciton.csv\")\n"
   ]
  },
  {
   "cell_type": "code",
   "execution_count": null,
   "id": "1b8508d2",
   "metadata": {},
   "outputs": [],
   "source": []
  },
  {
   "cell_type": "markdown",
   "id": "b51f4a0c",
   "metadata": {},
   "source": [
    "# Model retraining"
   ]
  },
  {
   "cell_type": "code",
   "execution_count": null,
   "id": "2d97af01",
   "metadata": {},
   "outputs": [],
   "source": [
    "def data_preprocessing(datafile,name,resultpath):                        \n",
    "    train=pd.read_csv(datafile)\n",
    "    epitope = pd.unique(train['Epitope'])\n",
    "    for i in epitope:\n",
    "        df_train = train[train['Epitope'] == i].sample(frac=1, random_state=42)\n",
    "        df_train['cdr3a']='NaN'\n",
    "        df_train=df_train[['Epitope','Affinity','TRBV','TRBJ','cdr3a','CDR3B']]\n",
    "        df_train = df_train.rename(columns={'Epitope': 'epitope', 'CDR3B': 'cdr3b'})\n",
    "        df_train.loc[df_train['Affinity'] == 0, 'epitope'] = 'none'\n",
    "        df_train.to_csv(resultpath+i+\"_train.csv\")\n",
    "\n",
    "        \n",
    "database=['healthy','patient']\n",
    "name=['1_1','1_2','1_4','1_6','1_8']\n",
    "name1=['1','2','3','4','5']\n",
    "for i in database:\n",
    "    for j in name:\n",
    "        for k in name1:\n",
    "            datafile=\"/home/luyanping/data/TCR_epitope_prediction/Compare_models_same_data/database/benchmark_dataset/10cross_validation/pair50/\"+i+\"/\"+k+'_'+j+\"train.csv\"\n",
    "            resultpath=\"/home/luyanping/data/TCR_epitope_prediction/Compare_models_same_data/TCRGP/data/10cross_validation/pair50/\"+i+\"/\"+k+'_'+j\n",
    "            data_preprocessing(datafile,j,resultpath)\n",
    "\n",
    "        \n",
    "database=['Antigen_specificity']\n",
    "name=['1_1','1_2','1_4']\n",
    "name1=['1','2','3','4','5']\n",
    "for i in database:\n",
    "    for j in name:\n",
    "        for k in name1:\n",
    "            datafile=\"/home/luyanping/data/TCR_epitope_prediction/Compare_models_same_data/database/benchmark_dataset/10cross_validation/pair50/\"+i+\"/\"+k+'_'+j+\"train.csv\"\n",
    "            resultpath=\"/home/luyanping/data/TCR_epitope_prediction/Compare_models_same_data/TCRGP/data/10cross_validation/pair50/\"+i+\"/\"+k+'_'+j\n",
    "            data_preprocessing(datafile,j,resultpath)\n",
    "\n",
    "database=['healthy','patient','Antigen_specificity']\n",
    "name=['1_1']\n",
    "name1=['1','2','3','4','5']\n",
    "pair=['more300','300','200','100','10']\n",
    "for i in database:\n",
    "    for j in name:\n",
    "        for k in name1:\n",
    "            for l in pair:\n",
    "                datafile=\"/home/luyanping/data/TCR_epitope_prediction/Compare_models_same_data/database/benchmark_dataset/10cross_validation/pair300/\"+l+\"/\"+i+\"/\"+k+'_'+j+\"train.csv\"\n",
    "                resultpath=\"/home/luyanping/data/TCR_epitope_prediction/Compare_models_same_data/TCRGP/data/10cross_validation/pair300/\"+l+\"/\"+i+\"/\"+k+'_'+j\n",
    "                data_preprocessing(datafile,j,resultpath)\n",
    "\n",
    "def data_preprocessing(datafile,name,resultpath):                        \n",
    "    train=pd.read_csv(datafile)\n",
    "    epitope = pd.unique(train['Epitope'])\n",
    "    for i in epitope:\n",
    "        df_train = train[train['Epitope'] == i].sample(frac=1, random_state=42)\n",
    "        df_train['cdr3a']='NaN'\n",
    "        df_train=df_train[['Epitope','Affinity','TRBV','TRBJ','cdr3a','CDR3B']]\n",
    "        df_train = df_train.rename(columns={'Epitope': 'epitope', 'CDR3B': 'cdr3b'})\n",
    "        df_train.loc[df_train['Affinity'] == 0, 'epitope'] = 'none'\n",
    "        df_train.to_csv(resultpath+i+\"_test.csv\")\n",
    "\n",
    "        \n",
    "database=['healthy','patient','Antigen_specificity']\n",
    "name=['1_1']\n",
    "name1=['1','2','3','4','5']\n",
    "for i in database:\n",
    "    for j in name:\n",
    "        for k in name1:\n",
    "            datafile=\"/home/luyanping/data/TCR_epitope_prediction/Compare_models_same_data/database/benchmark_dataset/10cross_validation/pair50/\"+i+\"/\"+k+'_'+j+\"test.csv\"\n",
    "            resultpath=\"/home/luyanping/data/TCR_epitope_prediction/Compare_models_same_data/TCRGP/data/10cross_validation/pair50/\"+i+\"/\"+k+'_'+j\n",
    "            data_preprocessing(datafile,j,resultpath)\n",
    "\n",
    "        \n",
    "            \n",
    "database=['healthy','patient','Antigen_specificity']\n",
    "name=['1_1']\n",
    "name1=['1','2','3','4','5']\n",
    "for i in database:\n",
    "    for j in name:\n",
    "        for k in name1:\n",
    "            datafile=\"/home/luyanping/data/TCR_epitope_prediction/Compare_models_same_data/database/benchmark_dataset/10cross_validation/pair300/more300/\"+i+\"/\"+k+'_'+j+\"test.csv\"\n",
    "            resultpath=\"/home/luyanping/data/TCR_epitope_prediction/Compare_models_same_data/TCRGP/data/10cross_validation/pair300/more300/\"+i+\"/\"+k+'_'+j\n",
    "            data_preprocessing(datafile,j,resultpath)\n",
    "                        \n",
    "                \n",
    "def data_preprocessing(datafile,name,resultpath):                        \n",
    "    train=pd.read_csv(datafile)\n",
    "    epitope = pd.unique(train['Epitope'])\n",
    "    for i in epitope:\n",
    "        df_train = train[train['Epitope'] == i].sample(frac=1, random_state=42)\n",
    "        df_train['cdr3a']='NaN'\n",
    "        df_train=df_train[['Epitope','Affinity','TRBV','TRBJ','cdr3a','CDR3B']]\n",
    "        df_train = df_train.rename(columns={'Epitope': 'epitope', 'CDR3B': 'cdr3b'})\n",
    "        df_train.loc[df_train['Affinity'] == 0, 'epitope'] = 'none'\n",
    "        df_train.to_csv(resultpath+i+\"_Validation.csv\")\n",
    "\n",
    "database=['healthy','patient','Antigen_specificity']\n",
    "name=['1_1'']\n",
    "name1=['1','2','3','4','5]\n",
    "for i in database:\n",
    "    for j in name:\n",
    "        for k in name1:\n",
    "            datafile=\"/home/luyanping/data/TCR_epitope_prediction/Compare_models_same_data/database/benchmark_dataset/10cross_validation/Validation/\"+i+\"/\"+k+'_'+j+\"Validation.csv\"\n",
    "            resultpath=\"/home/luyanping/data/TCR_epitope_prediction/Compare_models_same_data/TCRGP/data/10cross_validation/Validation/\"+i+\"/\"+k+'_'+j\n",
    "            data_preprocessing(datafile,j,resultpath)\n",
    "\n",
    "            "
   ]
  },
  {
   "cell_type": "code",
   "execution_count": 4,
   "id": "355540aa",
   "metadata": {},
   "outputs": [],
   "source": [
    "import pandas as pd\n",
    "import pickle\n",
    "import tcrgp\n",
    "\n",
    "def train_main(index_path,trainfile_path, testfile_path,save_model_path,esult_path):\n",
    "    subsmat = tcrgp.subsmatFromAA2('HENS920102')\n",
    "    pc_blo = tcrgp.get_pcs(subsmat, d=21) \n",
    "    index = pd.read_csv(index_path)\n",
    "    epitope = pd.unique(index['Epitope'])\n",
    "    all_results wq= pd.DataFrame()   \n",
    "    for i in epitope:\n",
    "        auc, params = tcrgp.train_classifier(trainfile_path + i + '_train.csv', 'human', i, pc_blo,\n",
    "                                                  cdr_types=[[], ['cdr3']], m_iters=20, lr=0.005, nZ=0, mbs=0, lmax3=18,\n",
    "                                                  va=None, vb=None, cdr3a=None, cdr3b='cdr3b', epis='epitope')\n",
    "        with open(save_model_path + i, 'wb') as f:\n",
    "            pickle.dump(params, f)\n",
    "        preds = tcrgp.predict(testfile_path + i + '_test.csv', params)\n",
    "        data = pd.read_csv(testfile_path + i + '_test.csv')\n",
    "        probability = data[['epitope', 'cdr3b', 'Affinity']]\n",
    "        probability = probability.rename(columns={'Affinity': 'y_true'})\n",
    "        probability['y_prob'] = preds\n",
    "        probability['y_pred'] = probability['y_prob'].apply(lambda x: 1 if x >= 0.5 else 0)\n",
    "        probability['epitope'] = probability['epitope'].str.replace('none', i)\n",
    "        all_results = all_results.append(probability)\n",
    "    all_results.to_csv(result_path+'probability.csv', index=False)"
   ]
  },
  {
   "cell_type": "markdown",
   "id": "1f71db90",
   "metadata": {},
   "source": [
    "# pair50"
   ]
  },
  {
   "cell_type": "code",
   "execution_count": null,
   "id": "49d07621",
   "metadata": {},
   "outputs": [],
   "source": [
    "database=['healthy','patient','Antigen_specificity']\n",
    "name1=['1','2','3','4','5']\n",
    "name=['1_1']\n",
    "for i in database:\n",
    "    for j in name:\n",
    "        for k in name1:\n",
    "            index_path=\"/home/luyanping/data/TCR_epitope_prediction/Compare_models_same_data/database/benchmark_dataset/10cross_validation/pair50/\"+i+\"/\"+k+'_'+j+\"train.csv\"\n",
    "            trainfile_path =\"data/10cross_validation/pair50/\"+i+\"/\"+k+'_'+j\n",
    "            testfile_path=\"data/10cross_validation/pair50/\"+i+\"/\"+k+'_'+j\n",
    "            save_model_path=\"./model/Retrain/pair50/\"+i+\"/\"+k+'_'+j\n",
    "            result_path=\"./result/pair50/seen/test/\"+i+\"/\"+k+'_'+j\n",
    "            train_main(index_path,trainfile_path,testfile_path,save_model_path,result_path)      "
   ]
  },
  {
   "cell_type": "code",
   "execution_count": null,
   "id": "46c2587c",
   "metadata": {},
   "outputs": [],
   "source": []
  },
  {
   "cell_type": "markdown",
   "id": "ba043c64",
   "metadata": {},
   "source": [
    "# pair300"
   ]
  },
  {
   "cell_type": "code",
   "execution_count": null,
   "id": "f8410db1",
   "metadata": {
    "collapsed": true
   },
   "outputs": [
    {
     "name": "stderr",
     "output_type": "stream",
     "text": [
      "/home/luyanping/miniconda3/envs/TCRGP3.6/lib/python3.6/site-packages/IPython/core/interactiveshell.py:3263: DtypeWarning: Columns (5,6,7,8,10) have mixed types.Specify dtype option on import or set low_memory=False.\n",
      "  if (await self.run_code(code, result,  async_=asy)):\n",
      "/home/luyanping/miniconda3/envs/TCRGP3.6/lib/python3.6/site-packages/IPython/core/interactiveshell.py:3263: DtypeWarning: Columns (5,6,7,8,10) have mixed types.Specify dtype option on import or set low_memory=False.\n",
      "  if (await self.run_code(code, result,  async_=asy)):\n",
      "/home/luyanping/miniconda3/envs/TCRGP3.6/lib/python3.6/site-packages/IPython/core/interactiveshell.py:3263: DtypeWarning: Columns (5,6,7,8,10) have mixed types.Specify dtype option on import or set low_memory=False.\n",
      "  if (await self.run_code(code, result,  async_=asy)):\n",
      "/home/luyanping/miniconda3/envs/TCRGP3.6/lib/python3.6/site-packages/IPython/core/interactiveshell.py:3263: DtypeWarning: Columns (5,6,7,8,10) have mixed types.Specify dtype option on import or set low_memory=False.\n",
      "  if (await self.run_code(code, result,  async_=asy)):\n",
      "/home/luyanping/miniconda3/envs/TCRGP3.6/lib/python3.6/site-packages/IPython/core/interactiveshell.py:3263: DtypeWarning: Columns (5,6,7,8,10) have mixed types.Specify dtype option on import or set low_memory=False.\n",
      "  if (await self.run_code(code, result,  async_=asy)):\n",
      "/home/luyanping/miniconda3/envs/TCRGP3.6/lib/python3.6/site-packages/IPython/core/interactiveshell.py:3263: DtypeWarning: Columns (5,6,7,8,10) have mixed types.Specify dtype option on import or set low_memory=False.\n",
      "  if (await self.run_code(code, result,  async_=asy)):\n",
      "/home/luyanping/miniconda3/envs/TCRGP3.6/lib/python3.6/site-packages/IPython/core/interactiveshell.py:3263: DtypeWarning: Columns (5,6,7,8,10) have mixed types.Specify dtype option on import or set low_memory=False.\n",
      "  if (await self.run_code(code, result,  async_=asy)):\n",
      "/home/luyanping/miniconda3/envs/TCRGP3.6/lib/python3.6/site-packages/IPython/core/interactiveshell.py:3263: DtypeWarning: Columns (5,6,7,8,10) have mixed types.Specify dtype option on import or set low_memory=False.\n",
      "  if (await self.run_code(code, result,  async_=asy)):\n",
      "/home/luyanping/miniconda3/envs/TCRGP3.6/lib/python3.6/site-packages/IPython/core/interactiveshell.py:3263: DtypeWarning: Columns (5,6,7,8,10) have mixed types.Specify dtype option on import or set low_memory=False.\n",
      "  if (await self.run_code(code, result,  async_=asy)):\n",
      "/home/luyanping/miniconda3/envs/TCRGP3.6/lib/python3.6/site-packages/IPython/core/interactiveshell.py:3263: DtypeWarning: Columns (5,6,7,8,10) have mixed types.Specify dtype option on import or set low_memory=False.\n",
      "  if (await self.run_code(code, result,  async_=asy)):\n",
      "/home/luyanping/miniconda3/envs/TCRGP3.6/lib/python3.6/site-packages/IPython/core/interactiveshell.py:3263: DtypeWarning: Columns (5,6,7,8,10) have mixed types.Specify dtype option on import or set low_memory=False.\n",
      "  if (await self.run_code(code, result,  async_=asy)):\n",
      "/home/luyanping/miniconda3/envs/TCRGP3.6/lib/python3.6/site-packages/IPython/core/interactiveshell.py:3263: DtypeWarning: Columns (5,6,7,8,10) have mixed types.Specify dtype option on import or set low_memory=False.\n",
      "  if (await self.run_code(code, result,  async_=asy)):\n",
      "/home/luyanping/miniconda3/envs/TCRGP3.6/lib/python3.6/site-packages/IPython/core/interactiveshell.py:3263: DtypeWarning: Columns (5,6,7,8,10) have mixed types.Specify dtype option on import or set low_memory=False.\n",
      "  if (await self.run_code(code, result,  async_=asy)):\n",
      "/home/luyanping/miniconda3/envs/TCRGP3.6/lib/python3.6/site-packages/IPython/core/interactiveshell.py:3263: DtypeWarning: Columns (5,6,7,8,10) have mixed types.Specify dtype option on import or set low_memory=False.\n",
      "  if (await self.run_code(code, result,  async_=asy)):\n"
     ]
    }
   ],
   "source": [
    "pair=['more300','300','200','100','10']            \n",
    "database=['healthy','patient','Antigen_specificity']\n",
    "name1=['1','2','3','4','5']\n",
    "name=['1_1']\n",
    "for i in database:\n",
    "    for j in name:\n",
    "        for k in name1:\n",
    "            for l in pair: \n",
    "                index_path=\"/home/luyanping/data/TCR_epitope_prediction/Compare_models_same_data/database/benchmark_dataset/10cross_validation/pair300/\"+l+\"/\"+i+\"/\"+k+'_'+j+\"train.csv\"\n",
    "                trainfile_path =\"data/10cross_validation/pair300/\"+l+\"/\"+i+\"/\"+k+'_'+j\n",
    "                testfile_path=\"data/10cross_validation/pair300/more300/\"+i+\"/\"+k+'_'+j\n",
    "                save_model_path=\"./model/Retrain/pair300/seen/\"+l+\"/\"+i+\"/\"+k+'_'+j\n",
    "                result_path=\"./result/pair300/seen/\"+l+\"/\"+i+\"/\"+k+'_'+j\n",
    "                train_main(index_path,trainfile_path,testfile_path,save_model_path,result_path)\n",
    "\n"
   ]
  },
  {
   "cell_type": "code",
   "execution_count": 3,
   "id": "307ab5b0",
   "metadata": {
    "collapsed": true
   },
   "outputs": [
    {
     "name": "stderr",
     "output_type": "stream",
     "text": [
      "/home/luyanping/miniconda3/envs/TCRGP3.6/lib/python3.6/site-packages/IPython/core/interactiveshell.py:3263: DtypeWarning: Columns (5,6,7,8,10) have mixed types.Specify dtype option on import or set low_memory=False.\n",
      "  if (await self.run_code(code, result,  async_=asy)):\n",
      "/home/luyanping/miniconda3/envs/TCRGP3.6/lib/python3.6/site-packages/IPython/core/interactiveshell.py:3263: DtypeWarning: Columns (5,6,7,8,10) have mixed types.Specify dtype option on import or set low_memory=False.\n",
      "  if (await self.run_code(code, result,  async_=asy)):\n"
     ]
    }
   ],
   "source": [
    "pair=['more300','300','200','100','10']            \n",
    "database=['healthy','patient','Antigen_specificity']\n",
    "name1=['1','2','3','4','5']\n",
    "name=['1_1']\n",
    "for i in database:\n",
    "    for j in name:\n",
    "        for k in name1:\n",
    "            for l in pair: \n",
    "                index_path=\"/home/luyanping/data/TCR_epitope_prediction/Compare_models_same_data/database/benchmark_dataset/10cross_validation/pair300/\"+l+\"/\"+i+\"/\"+k+'_'+j+\"train.csv\"\n",
    "                trainfile_path =\"data/10cross_validation/pair300/\"+l+\"/\"+i+\"/\"+k+'_'+j\n",
    "                testfile_path=\"data/10cross_validation/pair300/more300/\"+i+\"/\"+k+'_'+j\n",
    "                save_model_path=\"./model/Retrain/pair300/seen/\"+l+\"/\"+i+\"/\"+k+'_'+j\n",
    "                result_path=\"./result/pair300/seen/\"+l+\"/\"+i+\"/\"+k+'_'+j\n",
    "                train_main(index_path,trainfile_path,testfile_path,save_model_path,result_path)\n",
    "\n"
   ]
  },
  {
   "cell_type": "code",
   "execution_count": 5,
   "id": "9756d122",
   "metadata": {},
   "outputs": [],
   "source": [
    "def validation_main(index_path,testfile_path,modelfile_path,result_path):\n",
    "    index = pd.read_csv(index_path)\n",
    "    epitope=pd.unique(index['Epitope'])\n",
    "    all_results = pd.DataFrame()   \n",
    "    for i in epitope:\n",
    "        with open(modelfile_path+i,'rb') as f:\n",
    "            params = pickle.load(f)\n",
    "        preds = tcrgp.predict(testfile_path+i+'_Validation.csv',params)\n",
    "        data = pd.read_csv(testfile_path+i+'_Validation.csv')\n",
    "        probability = data[['epitope', 'cdr3b', 'Affinity']]\n",
    "        probability = probability.rename(columns={'Affinity': 'y_true'})\n",
    "        probability['y_prob'] = preds\n",
    "        probability['y_pred'] = probability['y_prob'].apply(lambda x: 1 if x >= 0.5 else 0)\n",
    "        probability['Epitope'] = probability['epitope'].str.replace('none', i)\n",
    "        all_results = all_results.append(probability)\n",
    "    all_results.to_csv(result_path+'probability.csv', index=False)"
   ]
  },
  {
   "cell_type": "code",
   "execution_count": null,
   "id": "d3c4f15d",
   "metadata": {},
   "outputs": [],
   "source": []
  },
  {
   "cell_type": "markdown",
   "id": "2e330327",
   "metadata": {},
   "source": [
    "# validaiton"
   ]
  },
  {
   "cell_type": "code",
   "execution_count": null,
   "id": "240e00ca",
   "metadata": {},
   "outputs": [],
   "source": [
    "import pandas as pd\n",
    "import numpy as np\n",
    "database=['healthy','patient','Antigen_specificity']\n",
    "name1=['1','2','3','4','5']\n",
    "name=['1_1']\n",
    "for i in database:\n",
    "    for j in name:\n",
    "        for k in name1:\n",
    "            index_path=\"/home/luyanping/data/TCR_epitope_prediction/Compare_models_same_data/database/benchmark_dataset/10cross_validation/Validation/\"+i+\"/\"+k+'_'+\"1_1Validation.csv\"\n",
    "            testfile_path=\"./data/10cross_validation/Validation/\"+i+\"/\"+k+'_'+j\n",
    "            modelfile_path=\"./model/Retrain/pair50/\"+i+\"/\"+k+'_'+j\n",
    "            result_path=\"./result/pair50/seen/validation/\"+i+\"/\"+k+'_'+j\n",
    "            validation_main(index_path,testfile_path,modelfile_path,result_path)     "
   ]
  },
  {
   "cell_type": "code",
   "execution_count": null,
   "id": "b0776df1",
   "metadata": {},
   "outputs": [],
   "source": [
    "import pandas as pd\n",
    "import numpy as np\n",
    "database=['patient','Antigen_specificity']\n",
    "name1=['1','2','3','4','5']\n",
    "name=['1_1']\n",
    "for i in database:\n",
    "    for j in name:\n",
    "        for k in name1:\n",
    "            index_path=\"/home/luyanping/data/TCR_epitope_prediction/Compare_models_same_data/database/benchmark_dataset/10cross_validation/Validation/\"+i+\"/\"+k+'_'+\"1_1Validation.csv\"\n",
    "            testfile_path=\"./data/10cross_validation/Validation/\"+i+\"/\"+k+'_'+j\n",
    "            modelfile_path=\"./model/Retrain/pair50/\"+i+\"/\"+k+'_'+j\n",
    "            result_path=\"./result/pair50/seen/validation/\"+i+\"/\"+k+'_'+j\n",
    "            validation_main(index_path,testfile_path,modelfile_path,result_path)     "
   ]
  },
  {
   "cell_type": "code",
   "execution_count": null,
   "id": "64f51a50",
   "metadata": {},
   "outputs": [],
   "source": []
  },
  {
   "cell_type": "code",
   "execution_count": null,
   "id": "e894ad92",
   "metadata": {},
   "outputs": [],
   "source": []
  },
  {
   "cell_type": "code",
   "execution_count": null,
   "id": "b44d83fd",
   "metadata": {},
   "outputs": [],
   "source": []
  },
  {
   "cell_type": "markdown",
   "id": "eb2f72cf",
   "metadata": {},
   "source": [
    "# Top5 parameter adjustment"
   ]
  },
  {
   "cell_type": "code",
   "execution_count": null,
   "id": "6151c54c",
   "metadata": {},
   "outputs": [],
   "source": [
    "import pandas as pd\n",
    "reap=['reap1','reap2','reap3','reap4','reap5']\n",
    "name=['top1','top2','top3','top4','top5']\n",
    "number= ['3000', '2800', '2600', '2400', '2200', '2000', '1800', '1600', '1400', '1200', '1000', '800', '600', '400', '200', '50']\n",
    "for i in reap:\n",
    "    for j in name:\n",
    "        for k in number:\n",
    "            datafile=\"/home/luyanping/data/TCR_epitope_prediction/Compare_models_same_data/database/benchmark_dataset/10cross_validation/top5/healthy/\"+i+\"_\" +j+\"_\"+k+'.csv'   \n",
    "            resultpath=\"/home/luyanping/data/TCR_epitope_prediction/Compare_models_same_data/TCRGP/data/10cross_validation/top5/healthy/\"+i+\"_\" +j+\"_\"+k\n",
    "            fix(datafile,resultpath)\n",
    "\n",
    "def fix(datafile,resultpath):\n",
    "    train=pd.read_csv(datafile)\n",
    "    train['TRBV']=''\n",
    "    train['TRBJ']=''\n",
    "    train['cdr3a']=''\n",
    "    epitope = pd.unique(train['Epitope'])\n",
    "    for a in epitope:\n",
    "        df_train = train[train['Epitope'] == a].sample(frac=1, random_state=42)\n",
    "        df_train['cdr3a']='NaN'\n",
    "        df_train=df_train[['Epitope','Affinity','TRBV','TRBJ','cdr3a','CDR3B']]\n",
    "        df_train = df_train.rename(columns={'Epitope': 'epitope', 'CDR3B': 'cdr3b'})\n",
    "        df_train.loc[df_train['Affinity'] == 0, 'epitope'] = 'none'\n",
    "        df_train.to_csv(resultpath+a+\"test.csv\")\n",
    "import pandas as pd\n",
    "reap=['reap1','reap2','reap3','reap4','reap5']\n",
    "name=['top1','top2','top3','top4','top5']\n",
    "number= ['3000', '2800', '2600', '2400', '2200', '2000', '1800', '1600', '1400', '1200', '1000', '800', '600', '400', '200', '50']\n",
    "for i in reap:\n",
    "    for j in name:\n",
    "        for k in number:\n",
    "            datafile=\"/home/luyanping/data/TCR_epitope_prediction/Compare_models_same_data/database/benchmark_dataset/10cross_validation/top5/healthy/\"+i+\"_\" +j+\"_\"+'test.csv'\n",
    "            resultpath=\"/home/luyanping/data/TCR_epitope_prediction/Compare_models_same_data/TCRGP/data/10cross_validation/top5/healthy/\"+i+\"_\" +j\n",
    "            fix(datafile,resultpath)\n",
    " "
   ]
  },
  {
   "cell_type": "code",
   "execution_count": null,
   "id": "56b8db5b",
   "metadata": {},
   "outputs": [],
   "source": [
    "reap=['reap1','reap2','reap3','reap4','reap5']\n",
    "name=['top1','top2','top3','top4','top5']\n",
    "number= ['3000', '2800', '2600', '2400', '2200', '2000', '1800', '1600', '1400', '1200', '1000', '800', '600', '400', '200', '50']\n",
    "for i in reap:\n",
    "    for j in name:\n",
    "        for k in number:\n",
    "            index_path=\"/home/luyanping/data/TCR_epitope_prediction/Compare_models_same_data/database/benchmark_dataset/10cross_validation/top5/healthy/\"+i+\"_\" +j+\"_\"+k+'.csv'\n",
    "            trainfile_path =\"data/10cross_validation/top5/healthy/\"+i+'_'+j+'_'+k\n",
    "            testfile_path=\"data/10cross_validation/top5/healthy/\"+i+'_'+j+'_'+k\n",
    "            result_path=\"/home/luyanping/data/TCR_epitope_prediction/Compare_models_same_data/TCRGP/result/top5/seen/healthy/\"+i+'_'+j+'_'+k\n",
    "            train_main(index_path,trainfile_path, testfile_path,result_path)  "
   ]
  },
  {
   "cell_type": "code",
   "execution_count": null,
   "id": "888dc783",
   "metadata": {},
   "outputs": [],
   "source": []
  },
  {
   "cell_type": "code",
   "execution_count": null,
   "id": "ebffa378",
   "metadata": {},
   "outputs": [],
   "source": []
  },
  {
   "cell_type": "code",
   "execution_count": null,
   "id": "5fd71f4d",
   "metadata": {},
   "outputs": [],
   "source": []
  },
  {
   "cell_type": "code",
   "execution_count": null,
   "id": "2469cd2f",
   "metadata": {},
   "outputs": [],
   "source": []
  },
  {
   "cell_type": "code",
   "execution_count": null,
   "id": "a7700d03",
   "metadata": {},
   "outputs": [],
   "source": []
  },
  {
   "cell_type": "code",
   "execution_count": null,
   "id": "2a510f53",
   "metadata": {},
   "outputs": [],
   "source": []
  }
 ],
 "metadata": {
  "kernelspec": {
   "display_name": "TCRGP",
   "language": "python",
   "name": "tcrgp3.6"
  },
  "language_info": {
   "codemirror_mode": {
    "name": "ipython",
    "version": 3
   },
   "file_extension": ".py",
   "mimetype": "text/x-python",
   "name": "python",
   "nbconvert_exporter": "python",
   "pygments_lexer": "ipython3",
   "version": "3.6.15"
  }
 },
 "nbformat": 4,
 "nbformat_minor": 5
}
