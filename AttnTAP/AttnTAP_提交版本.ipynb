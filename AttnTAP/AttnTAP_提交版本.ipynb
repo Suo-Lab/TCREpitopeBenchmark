{
 "cells": [
  {
   "cell_type": "markdown",
   "id": "9cfd46a7",
   "metadata": {},
   "source": [
    "# Original model prediction"
   ]
  },
  {
   "cell_type": "code",
   "execution_count": null,
   "id": "50a463dd",
   "metadata": {},
   "outputs": [],
   "source": [
    "import os\n",
    "import sys\n",
    "code_dir = os.path.join(os.getcwd(), 'Codes') \n",
    "sys.path.append(code_dir)  \n",
    "from AttnTAP_data_clean import *\n",
    "from AttnTAP_train  import *\n",
    "from AttnTAP_test  import *\n",
    "\n",
    "def validation_main(testfile_path,modelfile_path,result_path):\n",
    "    import pandas as pd\n",
    "    from sklearn.metrics import accuracy_score, roc_auc_score, recall_score, f1_score, matthews_corrcoef, precision_score,auc\n",
    "    test_model(\n",
    "        file_path=testfile_path,\n",
    "        load_model_file=modelfile_path,\n",
    "        plot_roc_curve=\"plot_roc_curve\",\n",
    "        output_file=result_path+'probability.csv')"
   ]
  },
  {
   "cell_type": "code",
   "execution_count": null,
   "id": "2401f1a7",
   "metadata": {},
   "outputs": [],
   "source": [
    "name=['1','2','3']\n",
    "me=['health','Diseases','antigen_specificity']\n",
    "for i in name:\n",
    "    for j in me:\n",
    "            testfile_path=\"/home/luyanping/data/TCR_epitope_prediction/Compare_models_same_data/database/benchmark_dataset/10cross_validation/Prediction/all/seen/three/neg_pos/\"+i+'_'+j+'.csv'\n",
    "            modelfile_path=\"/home/luyanping/data/TCR_epitope_prediction/Compare_models_same_data/AttnTAP/model/Original/cv_model_0_vdjdb_0.pt\"\n",
    "            result_path=\"./result/Original/seen/three/\"+i+'_'+j+'_vdjdb_'\n",
    "            validation_main(testfile_path,modelfile_path,result_path)\n",
    "            \n",
    "name=['1','2','3']\n",
    "me=['health','Diseases','antigen_specificity']\n",
    "for i in name:\n",
    "    for j in me:\n",
    "            testfile_path=\"/home/luyanping/data/TCR_epitope_prediction/Compare_models_same_data/database/benchmark_dataset/10cross_validation/Prediction/all/unseen/CF/\"+i+'_'+j+'.csv'\n",
    "            modelfile_path=\"/home/luyanping/data/TCR_epitope_prediction/Compare_models_same_data/AttnTAP/model/Original/cv_model_0_vdjdb_0.pt\"\n",
    "            result_path=\"./result/Original/unseen/\"+i+'_'+j + '_vdjdb_'\n",
    "            validation_main(testfile_path,modelfile_path,result_path)\n",
    "            \n",
    "            \n",
    "            \n",
    "name=['1','2','3']\n",
    "me=['health','Diseases','antigen_specificity']\n",
    "for i in name:\n",
    "    for j in me:\n",
    "            testfile_path=\"/home/luyanping/data/TCR_epitope_prediction/Compare_models_same_data/database/benchmark_dataset/10cross_validation/Prediction/all/seen/three/neg_pos/\"+i+'_'+j+'.csv'\n",
    "            modelfile_path=\"/home/luyanping/data/TCR_epitope_prediction/Compare_models_same_data/AttnTAP/model/Original/cv_model_0_mcpas_0.pt\"\n",
    "            result_path=\"./result/Original/seen/three/\"+i+'_'+j+'_mcpas_'\n",
    "            validation_main(testfile_path,modelfile_path,result_path)\n",
    "            \n",
    "name=['1','2','3']\n",
    "me=['health','Diseases','antigen_specificity']\n",
    "for i in name:\n",
    "    for j in me:\n",
    "            testfile_path=\"/home/luyanping/data/TCR_epitope_prediction/Compare_models_same_data/database/benchmark_dataset/10cross_validation/Prediction/all/unseen/CF/\"+i+'_'+j+'.csv'\n",
    "            modelfile_path=\"/home/luyanping/data/TCR_epitope_prediction/Compare_models_same_data/AttnTAP/model/Original/cv_model_0_mcpas_0.pt\"\n",
    "            result_path=\"./result/Original/unseen/\"+i+'_'+j+'_mcpas_'\n",
    "            validation_main(testfile_path,modelfile_path,result_path)      \n",
    "            \n",
    "            \n",
    "\n",
    "name=['1','2','3']\n",
    "me=['health','Diseases','antigen_specificity']\n",
    "for i in name:\n",
    "    for j in me:\n",
    "            testfile_path=\"/home/luyanping/data/TCR_epitope_prediction/Compare_models_same_data/database/benchmark_dataset/10cross_validation/Prediction/all/seen/seven/neg_pos/\"+i+'_'+j+'.csv'\n",
    "            modelfile_path=\"/home/luyanping/data/TCR_epitope_prediction/Compare_models_same_data/AttnTAP/model/Original/cv_model_0_vdjdb_0.pt\"\n",
    "            result_path=\"./result/Original/seen/seven/\"+i+'_'+j+'_vdjdb_'\n",
    "            validation_main(testfile_path,modelfile_path,result_path)\n",
    "            \n",
    "            \n",
    "name=['1','2','3']\n",
    "me=['health','Diseases','antigen_specificity']\n",
    "for i in name:\n",
    "    for j in me:\n",
    "            testfile_path=\"/home/luyanping/data/TCR_epitope_prediction/Compare_models_same_data/database/benchmark_dataset/10cross_validation/Prediction/all/seen/seven/neg_pos/\"+i+'_'+j+'.csv'\n",
    "            modelfile_path=\"/home/luyanping/data/TCR_epitope_prediction/Compare_models_same_data/AttnTAP/model/Original/cv_model_0_mcpas_0.pt\"\n",
    "            result_path=\"./result/Original/seen/seven/\"+i+'_'+j+'_mcpas_'\n",
    "            validation_main(testfile_path,modelfile_path,result_path)    \n",
    "            "
   ]
  },
  {
   "cell_type": "code",
   "execution_count": null,
   "id": "75db0c92",
   "metadata": {},
   "outputs": [],
   "source": []
  },
  {
   "cell_type": "code",
   "execution_count": null,
   "id": "ac191659",
   "metadata": {},
   "outputs": [],
   "source": []
  },
  {
   "cell_type": "markdown",
   "id": "f9f434c2",
   "metadata": {},
   "source": [
    "# Model retraining"
   ]
  },
  {
   "cell_type": "code",
   "execution_count": 1,
   "id": "84f09a52",
   "metadata": {},
   "outputs": [],
   "source": [
    "import os\n",
    "import sys\n",
    "code_dir = os.path.join(os.getcwd(), 'Codes') \n",
    "sys.path.append(code_dir) \n",
    "from AttnTAP_data_clean import *\n",
    "from AttnTAP_train  import *\n",
    "from AttnTAP_test  import *\n",
    "def train_main(trainfile_path,testfile_path,save_model_path,result_path):\n",
    "    import pandas as pd\n",
    "    from sklearn.metrics import accuracy_score, roc_auc_score, recall_score, f1_score, matthews_corrcoef, precision_score,auc\n",
    "    train_model(file_path=trainfile_path,\n",
    "            save_model_file=save_model_path+'.pth',\n",
    "            epoch=15,\n",
    "            valid_set=False,\n",
    "            plot_train_curve=\"plot_roc_curve\",\n",
    "            learning_rate=0.005,\n",
    "            embedding_dim=10,\n",
    "            dropout_rate=0.1,\n",
    "            hidden_dim=50,\n",
    "            plot_roc_curve=\"plot_roc_curve\"\n",
    "            )\n",
    "\n",
    "    test_model(\n",
    "        file_path=testfile_path,\n",
    "        load_model_file=save_model_path+'.pth',\n",
    "        plot_roc_curve=\"plot_roc_curve\",\n",
    "        output_file=result_path+'probability.csv'\n",
    "    )"
   ]
  },
  {
   "cell_type": "markdown",
   "id": "03d23d09",
   "metadata": {},
   "source": [
    "# pair50"
   ]
  },
  {
   "cell_type": "code",
   "execution_count": null,
   "id": "68fbba45",
   "metadata": {},
   "outputs": [],
   "source": [
    "database=['healthy','patient']\n",
    "name1=['1','2','3','4','5']\n",
    "name=['1_1','1_2','1_4','1_6','1_8']\n",
    "for i in database:\n",
    "    for j in name:\n",
    "        for k in name1:\n",
    "            trainfile_path =\"/home/luyanping/data/TCR_epitope_prediction/Compare_models_same_data/database/benchmark_dataset/10cross_validation/pair50/\"+i+\"/\"+k+'_'+j+\"train.csv\"\n",
    "            testfile_path=\"/home/luyanping/data/TCR_epitope_prediction/Compare_models_same_data/database/benchmark_dataset/10cross_validation/pair50/\"+i+\"/\"+k+'_'+\"1_1test.csv\"\n",
    "            save_modle_path\"/home/luyanping/data/TCR_epitope_prediction/Compare_models_same_data/AttnTAP/model/Retrain/pair50/\"+i+\"/\"+k+'_'+j\n",
    "            result_path=\"/home/luyanping/data/TCR_epitope_prediction/Compare_models_same_data/AttnTAP/result/pair50/seen/test/\"+i+\"/\"+k+'_'+j\n",
    "            train_main(trainfile_path,testfile_path,save_modle_path,result_path)  \n",
    "\n",
    "database=['Antigen_specificity']\n",
    "name1=['1','2','3','4','5']\n",
    "name=['1_1','1_2','1_4']\n",
    "for i in database:\n",
    "    for j in name:\n",
    "        for k in name1:\n",
    "            trainfile_path =\"/home/luyanping/data/TCR_epitope_prediction/Compare_models_same_data/database/benchmark_dataset/10cross_validation/pair50/\"+i+\"/\"+k+'_'+j+\"train.csv\"\n",
    "            testfile_path=\"/home/luyanping/data/TCR_epitope_prediction/Compare_models_same_data/database/benchmark_dataset/10cross_validation/pair50/\"+i+\"/\"+k+'_'+\"1_1test.csv\"\n",
    "            save_modle_path=\"/home/luyanping/data/TCR_epitope_prediction/Compare_models_same_data/AttnTAP/model/Retrain/pair50/\"+i+\"/\"+k+'_'+j\n",
    "            result_path=\"/home/luyanping/data/TCR_epitope_prediction/Compare_models_same_data/AttnTAP/result/pair50/seen/test/\"+i+\"/\"+k+'_'+j\n",
    "            train_main(trainfile_path,testfile_path,save_modle_path,result_path) "
   ]
  },
  {
   "cell_type": "code",
   "execution_count": null,
   "id": "e7026d27",
   "metadata": {},
   "outputs": [],
   "source": []
  },
  {
   "cell_type": "markdown",
   "id": "1f20a333",
   "metadata": {},
   "source": [
    "# pair300"
   ]
  },
  {
   "cell_type": "code",
   "execution_count": null,
   "id": "3c6b45b4",
   "metadata": {},
   "outputs": [],
   "source": [
    "pair=['more300','300','200','100','10']\n",
    "database=['healthy','patient']\n",
    "name1=['1','2','3','4','5']\n",
    "name=['1_1']\n",
    "for i in database:\n",
    "    for j in name:\n",
    "        for k in name1:\n",
    "            for l in pair:\n",
    "                trainfile_path =\"/home/luyanping/data/TCR_epitope_prediction/Compare_models_same_data/database/benchmark_dataset/10cross_validation/pair300/\"+l+\"/\"+i+\"/\"+k+'_'+j+\"train.csv\"\n",
    "                testfile_path=\"/home/luyanping/data/TCR_epitope_prediction/Compare_models_same_data/database/benchmark_dataset/10cross_validation/pair300/more300/\"+i+\"/\"+k+'_'+\"1_1test.csv\"\n",
    "                result_path=\"/home/luyanping/data/TCR_epitope_prediction/Compare_models_same_data/AttnTAP/result/pair300/seen/\"+l+\"/\"+i+\"/\"+k+'_'+j\n",
    "                save_modle_path=\"/home/luyanping/data/TCR_epitope_prediction/Compare_models_same_data/AttnTAP/model/Retrain/pair300/seen/\"+l+\"/\"+i+\"/\"+k+'_'+j\n",
    "                train_main(trainfile_path,testfile_path,j,result_path,chain)  \n",
    "\n",
    "pair=['more300','300','200','100','10']\n",
    "database=['Antigen_specificity']\n",
    "name1=['1','2','3','4','5']\n",
    "name=['1_1']\n",
    "for i in database:\n",
    "    for j in name:\n",
    "        for k in name1:\n",
    "            for l in pair:\n",
    "                trainfile_path =\"/home/luyanping/data/TCR_epitope_prediction/Compare_models_same_data/database/benchmark_dataset/10cross_validation/pair300/\"+l+\"/\"+i+\"/\"+k+'_'+j+\"train.csv\"\n",
    "                testfile_path=\"/home/luyanping/data/TCR_epitope_prediction/Compare_models_same_data/database/benchmark_dataset/10cross_validation/pair300/more300/\"+i+\"/\"+k+'_'+\"1_1test.csv\"\n",
    "                result_path=\"/home/luyanping/data/TCR_epitope_prediction/Compare_models_same_data/AttnTAP/result/pair300/seen/\"+l+\"/\"+i+\"/\"+k+'_'+j\n",
    "                save_modle_path=\"/home/luyanping/data/TCR_epitope_prediction/Compare_models_same_data/AttnTAP/model/Retrain/pair300/seen/\"+l+\"/\"+i+\"/\"+k+'_'+j\n",
    "                train_main(trainfile_path,testfile_path,j,result_path,chain) "
   ]
  },
  {
   "cell_type": "code",
   "execution_count": null,
   "id": "c9a3277e",
   "metadata": {},
   "outputs": [],
   "source": []
  },
  {
   "cell_type": "code",
   "execution_count": null,
   "id": "c6ab60eb",
   "metadata": {},
   "outputs": [],
   "source": []
  },
  {
   "cell_type": "code",
   "execution_count": 2,
   "id": "452f4c75",
   "metadata": {},
   "outputs": [],
   "source": [
    "def validation_main(testfile_path,modelfile_path,result_path):\n",
    "    import pandas as pd\n",
    "    from sklearn.metrics import accuracy_score, roc_auc_score, recall_score, f1_score, matthews_corrcoef, precision_score,auc\n",
    "    test_model(\n",
    "        file_path=testfile_path,\n",
    "        load_model_file=modelfile_path,\n",
    "        plot_roc_curve=\"plot_roc_curve\",\n",
    "        output_file=result_path+'probability.csv')"
   ]
  },
  {
   "cell_type": "code",
   "execution_count": 3,
   "id": "ff8e1070",
   "metadata": {},
   "outputs": [],
   "source": [
    "import os\n",
    "GPU_NUMBER = [1]\n",
    "os.environ[\"CUDA_VISIBLE_DEVICES\"] = \",\".join([str(s) for s in GPU_NUMBER])\n",
    "os.environ[\"NCCL_DEBUG\"] = \"INFO\""
   ]
  },
  {
   "cell_type": "code",
   "execution_count": null,
   "id": "2168ceea",
   "metadata": {},
   "outputs": [],
   "source": [
    "pair=['more300','300','200','100','10']\n",
    "database=['healthy','patient']\n",
    "name1=['1','2','3','4','5']\n",
    "name=['1_1','1_2','1_4','1_6','1_8']\n",
    "for i in database:\n",
    "    for j in name:\n",
    "        for k in name1:\n",
    "            for l in pair:\n",
    "                testfile_path=\"/home/luyanping/data/TCR_epitope_prediction/Compare_models_same_data/database/benchmark_dataset/10cross_validation/pair300/more300/\"+i+\"/\"+k+'_'+\"1_1test.csv\"\n",
    "                result_path=\"/home/luyanping/data/TCR_epitope_prediction/Compare_models_same_data/AttnTAP/result/pair300/seen/\"+l+\"/\"+i+\"/\"+k+'_'+j\n",
    "                modelfile_path=\"/home/luyanping/data/TCR_epitope_prediction/Compare_models_same_data/AttnTAP/model/Retrain/pair300/seen/\"+l+\"/\"+i+\"/\"+k+'_'+j+'.pth'\n",
    "                validation_main(testfile_path,modelfile_path,result_path)  \n",
    "\n",
    "pair=['more300','300','200','100','10']\n",
    "database=['Antigen_specificity']\n",
    "name1=['1','2','3','4','5']\n",
    "name=['1_1','1_2','1_4']\n",
    "for i in database:\n",
    "    for j in name:\n",
    "        for k in name1:\n",
    "            for l in pair:\n",
    "                testfile_path=\"/home/luyanping/data/TCR_epitope_prediction/Compare_models_same_data/database/benchmark_dataset/10cross_validation/pair300/more300/\"+i+\"/\"+k+'_'+\"1_1test.csv\"\n",
    "                result_path=\"/home/luyanping/data/TCR_epitope_prediction/Compare_models_same_data/AttnTAP/result/pair300/seen/\"+l+\"/\"+i+\"/\"+k+'_'+j\n",
    "                modelfile_path=\"/home/luyanping/data/TCR_epitope_prediction/Compare_models_same_data/AttnTAP/model/Retrain/pair300/seen/\"+l+\"/\"+i+\"/\"+k+'_'+j+'.pth'\n",
    "                validation_main(testfile_path,modelfile_path,result_path) "
   ]
  },
  {
   "cell_type": "code",
   "execution_count": null,
   "id": "c7584049",
   "metadata": {},
   "outputs": [],
   "source": []
  },
  {
   "cell_type": "markdown",
   "id": "e254ff08",
   "metadata": {},
   "source": [
    "# validaiton"
   ]
  },
  {
   "cell_type": "code",
   "execution_count": null,
   "id": "b01e46df",
   "metadata": {},
   "outputs": [],
   "source": [
    "import pandas as pd\n",
    "name1=['1','2','3','4','5']\n",
    "name=['1_1','1_2','1_4','1_6','1_8']\n",
    "database=['healthy','patient']\n",
    "for i in database:\n",
    "    for j in name:\n",
    "        for k in name1:\n",
    "            testfile_path=\"/home/luyanping/data/TCR_epitope_prediction/Compare_models_same_data/database/benchmark_dataset/10cross_validation/Validation/\"+i+\"/\"+k+'_'+\"1_1Validation.csv\"\n",
    "            modelfile_path=\"/home/luyanping/data/TCR_epitope_prediction/Compare_models_same_data/AttnTAP/model/Retrain/pair50/\"+i+\"/\"+k+'_'+j+'.pth'\n",
    "            result_path=\"/home/luyanping/data/TCR_epitope_prediction/Compare_models_same_data/AttnTAP/result/pair50/seen/validation/\"+i+\"/\"+k+'_'+j\n",
    "            validation_main(testfile_path,modelfile_path,result_path)\n",
    "\n",
    "name1=['1','2','3','4','5']\n",
    "name=['1_1','1_2','1_4']\n",
    "database=['Antigen_specificity']\n",
    "for i in database:\n",
    "    for j in name:\n",
    "        for k in name1:\n",
    "            testfile_path=\"/home/luyanping/data/TCR_epitope_prediction/Compare_models_same_data/database/benchmark_dataset/10cross_validation/Validation/\"+i+\"/\"+k+'_'+\"1_1Validation.csv\"\n",
    "            modelfile_path=\"/home/luyanping/data/TCR_epitope_prediction/Compare_models_same_data/AttnTAP/model/Retrain/pair50/\"+i+\"/\"+k+'_'+j+'.pth'\n",
    "            result_path=\"/home/luyanping/data/TCR_epitope_prediction/Compare_models_same_data/AttnTAP/result/pair50/seen/validation/\"+i+\"/\"+k+'_'+j\n",
    "            validation_main(testfile_path,modelfile_path,result_path)"
   ]
  },
  {
   "cell_type": "code",
   "execution_count": null,
   "id": "b1163a26",
   "metadata": {},
   "outputs": [],
   "source": []
  },
  {
   "cell_type": "code",
   "execution_count": null,
   "id": "387a5151",
   "metadata": {},
   "outputs": [],
   "source": []
  },
  {
   "cell_type": "markdown",
   "id": "4562b0d1",
   "metadata": {},
   "source": [
    "# unkown _test"
   ]
  },
  {
   "cell_type": "code",
   "execution_count": null,
   "id": "cfb4810b",
   "metadata": {},
   "outputs": [],
   "source": [
    "import pandas as pd\n",
    "name1=['1','2','3','4','5']\n",
    "name=['1_1','1_2','1_4','1_6','1_8']\n",
    "database=['healthy','patient']\n",
    "for i in database:\n",
    "    for j in name:\n",
    "        for k in name1:\n",
    "            testfile_path=\"/home/luyanping/data/TCR_epitope_prediction/Compare_models_same_data/database/benchmark_dataset/10cross_validation/unknow/\"+i+\"/\"+k+'_'+\"1_1test.csv\"\n",
    "            modelfile_path=\"/home/luyanping/data/TCR_epitope_prediction/Compare_models_same_data/AttnTAP/model/Retrain/pair50/\"+i+\"/\"+k+'_'+j+'.pth'\n",
    "            result_path=\"/home/luyanping/data/TCR_epitope_prediction/Compare_models_same_data/AttnTAP/result/pair50/unseen/test/\"+i+\"/\"+k+'_'+j\n",
    "            validation_main(testfile_path,modelfile_path,result_path)\n",
    "\n",
    "name1=['1','2','3','4','5']\n",
    "name=['1_1','1_2','1_4']\n",
    "database=['Antigen_specificity']\n",
    "for i in database:\n",
    "    for j in name:\n",
    "        for k in name1:\n",
    "            testfile_path=\"/home/luyanping/data/TCR_epitope_prediction/Compare_models_same_data/database/benchmark_dataset/10cross_validation/unknow/\"+i+\"/\"+k+'_'+\"1_1test.csv\"\n",
    "            modelfile_path=\"/home/luyanping/data/TCR_epitope_prediction/Compare_models_same_data/AttnTAP/model/Retrain/pair50/\"+i+\"/\"+k+'_'+j+'.pth'\n",
    "            result_path=\"/home/luyanping/data/TCR_epitope_prediction/Compare_models_same_data/AttnTAP/result/pair50/unseen/test/\"+i+\"/\"+k+'_'+j\n",
    "            validation_main(testfile_path,modelfile_path,result_path)"
   ]
  },
  {
   "cell_type": "code",
   "execution_count": null,
   "id": "1f73ef24",
   "metadata": {},
   "outputs": [],
   "source": []
  },
  {
   "cell_type": "code",
   "execution_count": null,
   "id": "58b328e0",
   "metadata": {},
   "outputs": [],
   "source": []
  },
  {
   "cell_type": "markdown",
   "id": "02ac8cd3",
   "metadata": {},
   "source": [
    "# unknown-validaiton"
   ]
  },
  {
   "cell_type": "code",
   "execution_count": null,
   "id": "5ab5f84b",
   "metadata": {},
   "outputs": [],
   "source": [
    "database=['healthy','patient']\n",
    "name1=['1','2','3','4','5']\n",
    "name=['1_1','1_2','1_4','1_6','1_8']\n",
    "for i in database:\n",
    "    for j in name:\n",
    "        for k in name1:\n",
    "            testfile_path=\"/home/luyanping/data/TCR_epitope_prediction/Compare_models_same_data/database/benchmark_dataset/10cross_validation/unknow/validation/\"+i+\"/\"+k+'_'+\"1_1validation.csv\"\n",
    "            modelfile_path=\"/home/luyanping/data/TCR_epitope_prediction/Compare_models_same_data/AttnTAP/model/Retrain/pair50/\"+i+\"/\"+k+'_'+j+'.pth'\n",
    "            result_path=\"./result/pair50/unseen/validation/\"+i+\"/\"+k+'_'+j\n",
    "            validation_main(testfile_path,modelfile_path, result_path) \n",
    "\n",
    "database=['Antigen_specificity']\n",
    "name1=['1','2','3','4','5']\n",
    "name=['1_1','1_2','1_4']\n",
    "for i in database:\n",
    "    for j in name:\n",
    "        for k in name1:\n",
    "            testfile_path=\"/home/luyanping/data/TCR_epitope_prediction/Compare_models_same_data/database/benchmark_dataset/10cross_validation/unknow/validation/\"+i+\"/\"+k+'_'+\"1_1validation.csv\"\n",
    "            modelfile_path=\"/home/luyanping/data/TCR_epitope_prediction/Compare_models_same_data/AttnTAP/model/Retrain/pair50/\"+i+\"/\"+k+'_'+j+'.pth'\n",
    "            result_path=\"./result/pair50/unseen/validation/\"+i+\"/\"+k+'_'+j\n",
    "            validation_main(testfile_path,modelfile_path,result_path) \n",
    "            "
   ]
  },
  {
   "cell_type": "code",
   "execution_count": null,
   "id": "0d5d12b2",
   "metadata": {},
   "outputs": [],
   "source": []
  },
  {
   "cell_type": "code",
   "execution_count": null,
   "id": "26064dca",
   "metadata": {},
   "outputs": [],
   "source": []
  },
  {
   "cell_type": "code",
   "execution_count": null,
   "id": "4d7b7362",
   "metadata": {},
   "outputs": [],
   "source": []
  },
  {
   "cell_type": "markdown",
   "id": "93138bda",
   "metadata": {},
   "source": [
    "# TCR numbers top5(Parameter Adjustment)"
   ]
  },
  {
   "cell_type": "code",
   "execution_count": 6,
   "id": "ae9b75f1",
   "metadata": {},
   "outputs": [],
   "source": [
    "import os\n",
    "import sys\n",
    "code_dir = os.path.join(os.getcwd(), 'Codes')  \n",
    "sys.path.append(code_dir)  \n",
    "from AttnTAP_data_clean import *\n",
    "from time_train_model  import *\n",
    "from top5_test import *\n",
    "\n",
    "def train_main(trainfile_path, testfile_path, result_path,epoch):\n",
    "    model = train_model(file_path=trainfile_path,\n",
    "                        epoch=epoch,\n",
    "                        valid_set=False,\n",
    "                        learning_rate=0.005,\n",
    "                        embedding_dim=10,\n",
    "                        dropout_rate=0.1,\n",
    "                        hidden_dim=50)\n",
    "    test_model(\n",
    "        file_path=testfile_path,\n",
    "        model=model,\n",
    "        output_file=result_path + 'probability.csv'\n",
    "    )\n",
    "    "
   ]
  },
  {
   "cell_type": "code",
   "execution_count": null,
   "id": "3f4d5aef",
   "metadata": {},
   "outputs": [],
   "source": [
    "reap=['reap1','reap2','reap3','reap4','reap5']\n",
    "name=['top1','top2','top3','top4','top5']\n",
    "number= ['3000', '2800', '2600', '2400', '2200', '2000', '1800', '1600', '1400', '1200', '1000', '800', '600', '400', '200', '50']\n",
    "epochs=[10,15,25,35,45]\n",
    "for i in reap:\n",
    "    for j in name:\n",
    "        for k in number:\n",
    "            for epoch in epochs:\n",
    "                trainfile_path=\"/home/luyanping/data/TCR_epitope_prediction/Compare_models_same_data/database/benchmark_dataset/10cross_validation/top5/healthy/\"+i+\"_\" +j+\"_\"+k+'.csv'\n",
    "                testfile_path=\"/home/luyanping/data/TCR_epitope_prediction/Compare_models_same_data/database/benchmark_dataset/10cross_validation/top5/healthy/\"+i+\"_\" +j+\"_\"+'test.csv'    \n",
    "                result_path=\"/home/luyanping/data/TCR_epitope_prediction/Compare_models_same_data/AttnTAP/result/top5/seen/healthy/\"+i+'_'+j+'_'+k+'_'+str(epoch)\n",
    "                \n",
    "                train_main(trainfile_path,testfile_path,result_path,epoch)  "
   ]
  },
  {
   "cell_type": "code",
   "execution_count": null,
   "id": "6fec49bb",
   "metadata": {},
   "outputs": [],
   "source": []
  },
  {
   "cell_type": "code",
   "execution_count": null,
   "id": "25fa7691",
   "metadata": {},
   "outputs": [],
   "source": []
  },
  {
   "cell_type": "code",
   "execution_count": null,
   "id": "cbaa213c",
   "metadata": {},
   "outputs": [],
   "source": []
  },
  {
   "cell_type": "code",
   "execution_count": null,
   "id": "84e700e3",
   "metadata": {},
   "outputs": [],
   "source": []
  }
 ],
 "metadata": {
  "kernelspec": {
   "display_name": "Python 3 (ipykernel)",
   "language": "python",
   "name": "python3"
  },
  "language_info": {
   "codemirror_mode": {
    "name": "ipython",
    "version": 3
   },
   "file_extension": ".py",
   "mimetype": "text/x-python",
   "name": "python",
   "nbconvert_exporter": "python",
   "pygments_lexer": "ipython3",
   "version": "3.8.13"
  }
 },
 "nbformat": 4,
 "nbformat_minor": 5
}
